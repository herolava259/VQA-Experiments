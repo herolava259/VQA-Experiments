{
 "cells": [
  {
   "cell_type": "markdown",
   "id": "fa35177a-e7a3-4a76-b24c-22dc6b440a56",
   "metadata": {},
   "source": [
    "## I.Dataset"
   ]
  },
  {
   "cell_type": "code",
   "execution_count": 13,
   "id": "e1628f59-b398-42e9-9192-0487333d43fa",
   "metadata": {},
   "outputs": [],
   "source": [
    "import zipfile, os, json\n",
    "custom_dataset_path = '../datasets/V2-20250802T094004Z-1-001.zip'\n",
    "with zipfile.ZipFile(custom_dataset_path, \"r\") as zip_ref:\n",
    "    zip_ref.extractall(\"vqa-custom-dataset\")"
   ]
  },
  {
   "cell_type": "code",
   "execution_count": 2,
   "id": "786949fa-5078-4bb8-abef-671c429f9950",
   "metadata": {},
   "outputs": [],
   "source": [
    "custom_dataset_root = './vqa-custom-dataset/v2/'\n",
    "huggingface_datasets = {\n",
    "    \"Vi-VLM\": [\n",
    "        {\n",
    "            \"tag\": \"conversation\",\n",
    "            \"group\": \"Vi-VLM/Vista\",\n",
    "            \"name\": \"vi_llava_conversation\"      \n",
    "        },\n",
    "        {\n",
    "            \"tag\": \"complex-reasoning\",\n",
    "            \"group\": \"Vi-VLM/Vista\",\n",
    "            \"name\": \"vi_llava_complex_reasoning\"\n",
    "        },\n",
    "        {\n",
    "            \"tag\": \"detail-description\",\n",
    "            \"group\": \"Vi-VLM/Vista\",\n",
    "            \"name\": \"vi_llava_detail_description\"\n",
    "        },\n",
    "    ]\n",
    "    \"5CD-AI\":[\n",
    "        {\n",
    "            \"tag\": \"ViText-Gemini-VQA\",\n",
    "            \"group\": None,\n",
    "            \"name\": \"5CD-AI/Viet-ViTextVQA-gemini-VQA\"\n",
    "        },\n",
    "        {\n",
    "            \"tag\": \"VinText-VQA\",\n",
    "            \"group\": None,\n",
    "            \"name\": \"5CD-AI/Viet-Vintext-gemini-VQA\"\n",
    "        },\n",
    "        {\n",
    "            \"tag\": \"recipt\",\n",
    "            \"group\": None,\n",
    "            \"name\": \"5CD-AI/Viet-Receipt-VQA\"\n",
    "        }\n",
    "    ]\n",
    "}"
   ]
  },
  {
   "cell_type": "code",
   "execution_count": 3,
   "id": "44d52be0-79ad-4752-97b7-ed69364c07c1",
   "metadata": {},
   "outputs": [
    {
     "name": "stderr",
     "output_type": "stream",
     "text": [
      "C:\\Users\\Admin\\Anconda3\\envs\\ml-datascience\\lib\\site-packages\\tqdm\\auto.py:21: TqdmWarning: IProgress not found. Please update jupyter and ipywidgets. See https://ipywidgets.readthedocs.io/en/stable/user_install.html\n",
      "  from .autonotebook import tqdm as notebook_tqdm\n"
     ]
    }
   ],
   "source": [
    "from datasets import load_dataset\n",
    "\n",
    "def load_huggingface_dataset(scheme: str):\n",
    "    org, tag = scheme.split(\":\")\n",
    "\n",
    "    items = huggingface_datasets[org]\n",
    "\n",
    "    info = None\n",
    "    for it in items:\n",
    "        if it['tag'] == tag:\n",
    "            info = it \n",
    "            break\n",
    "\n",
    "    if info.get('group', None):\n",
    "        return load_dataset(info['group'], info['name'])\n",
    "    else:\n",
    "        return load_dataset(info['name'])\n",
    "\n",
    "\n",
    "    \n",
    "    "
   ]
  },
  {
   "cell_type": "code",
   "execution_count": null,
   "id": "4e0f33ff-8488-4d5d-938a-4971fe348667",
   "metadata": {},
   "outputs": [],
   "source": []
  }
 ],
 "metadata": {
  "kernelspec": {
   "display_name": "Python 3 (ipykernel)",
   "language": "python",
   "name": "python3"
  },
  "language_info": {
   "codemirror_mode": {
    "name": "ipython",
    "version": 3
   },
   "file_extension": ".py",
   "mimetype": "text/x-python",
   "name": "python",
   "nbconvert_exporter": "python",
   "pygments_lexer": "ipython3",
   "version": "3.10.18"
  }
 },
 "nbformat": 4,
 "nbformat_minor": 5
}
